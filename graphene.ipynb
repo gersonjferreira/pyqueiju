{
 "cells": [
  {
   "cell_type": "markdown",
   "metadata": {},
   "source": [
    "# pyQUEIJU: run QE from jupyter\n",
    "\n",
    "**pyQUEIJU: QUantum Espresso Interface on JUpyter**\n",
    "\n",
    "In this example we use pyQUEIJU to obtain and plot the graphene bands.\n",
    "\n",
    "In my server the QE binaries are placed within the $PATH. But if yours are not, you can inform the correct path at the object initialization."
   ]
  },
  {
   "cell_type": "code",
   "execution_count": 1,
   "metadata": {
    "scrolled": true
   },
   "outputs": [],
   "source": [
    "# we'll need these to plot the bands\n",
    "import numpy as np\n",
    "import matplotlib.pyplot as plt\n",
    "\n",
    "# add pyqueiju module folder to the pythonpath\n",
    "# or save the module within your pythonpath to avoid these lines\n",
    "import sys\n",
    "sys.path.append('./pyqueiju')\n",
    "\n",
    "# import the module itself\n",
    "from pyqueiju import queiju"
   ]
  },
  {
   "cell_type": "markdown",
   "metadata": {},
   "source": [
    "## How to use it\n",
    "\n",
    "- To create an instance call:\n",
    "\n",
    "> `relax = queiju(relax_in, qe_path)`\n",
    "\n",
    "or\n",
    "\n",
    "> `relax = queiju(relax_in)`\n",
    "\n",
    "where `relax_in` is the string with the QE input data (see below in the examples) and `qe_path` is the path to the QE binaries. If the binaries are on $PATH, we can ommit `qe_path=\"\"` as in the second line above. Here we are calling this instance **relax**, but use an appropriate name for the type of calculation you are calling (relax, scf, nscf, bands, ...)\n",
    "\n",
    "- To run, call the `run` method informing the proper binary:\n",
    "\n",
    "> `relax.run(\"pw.x\")`\n",
    "\n",
    "- To see the output, either print to screen or save to an external file as\n",
    "\n",
    "> `print(relax.out)`\n",
    "\n",
    "> `relax.saveoutput('relax.out')`\n",
    "\n",
    "- A list of files created or modified by the QE run is available at\n",
    "\n",
    "> `print(relax.files)`\n",
    "\n",
    "### Creating scripts to go from relax to scf, etc...\n",
    "\n",
    "Check the example below. It is much easier to build python scripts using the structure above instead of going to a terminal or running bash scripts.\n",
    "\n",
    "### For more information\n",
    "\n",
    "Check the gitlab webpage and our **TO DO LIST** at the board."
   ]
  },
  {
   "cell_type": "markdown",
   "metadata": {},
   "source": [
    "## 1 - Relaxation"
   ]
  },
  {
   "cell_type": "code",
   "execution_count": 2,
   "metadata": {},
   "outputs": [],
   "source": [
    "#########################\n",
    "# DEFINE the input file #\n",
    "#########################\n",
    "relax_in = \"\"\"\n",
    "&CONTROL\n",
    "    calculation='vc-relax'\n",
    "    prefix='graphene'\n",
    "    restart_mode='from_scratch'\n",
    "    outdir='./outdir'\n",
    "    pseudo_dir='/home/gerson/pseudo'\n",
    "/\n",
    "&SYSTEM\n",
    "    ibrav = 4, a = 2.460, c= 20,\n",
    "    nat = 2, ntyp = 1,\n",
    "    ecutwfc = 40.0 ,\n",
    "    ecutrho = 400.0 ,\n",
    "    occupations = 'smearing', degauss = 0.0001, smearing = 'marzari-vanderbilt',\n",
    "    assume_isolated = '2D'\n",
    "/\n",
    "&ELECTRONS\n",
    "    conv_thr = 1.0d-8,\n",
    "    mixing_beta = 0.3,\n",
    "/\n",
    "&IONS\n",
    "/\n",
    "&CELL\n",
    "    cell_dofree = '2Dxy'\n",
    "/\n",
    "ATOMIC_SPECIES\n",
    "C 12.0107 C.pbe-n-kjpaw_psl.1.0.0.UPF\n",
    "ATOMIC_POSITIONS crystal\n",
    "C 0.000000000 0.000000000 0.250000000\n",
    "C 0.333333333 0.666666667 0.250000000\n",
    "K_POINTS automatic\n",
    "12 12 1 0 0 0\n",
    "\"\"\""
   ]
  },
  {
   "cell_type": "code",
   "execution_count": 3,
   "metadata": {},
   "outputs": [
    {
     "name": "stdout",
     "output_type": "stream",
     "text": [
      "It took  82.04520288505591  seconds\n"
     ]
    }
   ],
   "source": [
    "# initializes the object and runs the code\n",
    "relax = queiju(relax_in)\n",
    "print(\"It took \", relax.run(\"pw.x\"), \" seconds\")"
   ]
  },
  {
   "cell_type": "code",
   "execution_count": 1,
   "metadata": {},
   "outputs": [],
   "source": [
    "# to prints the full output, run\n",
    "print(relax.out)\n",
    "# if you want to save the output to a file, run\n",
    "relax.saveoutput('relax.out')"
   ]
  },
  {
   "cell_type": "code",
   "execution_count": 2,
   "metadata": {},
   "outputs": [],
   "source": [
    "# to print the list of new or modified files\n",
    "print(relax.files)"
   ]
  },
  {
   "cell_type": "code",
   "execution_count": 7,
   "metadata": {},
   "outputs": [
    {
     "name": "stdout",
     "output_type": "stream",
     "text": [
      "Begin final coordinates\n",
      "     new unit-cell volume =    710.60042 a.u.^3 (   105.30012 Ang^3 )\n",
      "     density =      0.37881 g/cm^3\n",
      "\n",
      "CELL_PARAMETERS (alat=  4.64872629)\n",
      "   1.002302945   0.000000000   0.000000000\n",
      "  -0.501151472   0.868019813   0.000000000\n",
      "   0.000000000   0.000000000   8.130081301\n",
      "\n",
      "ATOMIC_POSITIONS (crystal)\n",
      "C        0.000000000   0.000000000   0.250000000\n",
      "C        0.333333333   0.666666667   0.250000000\n",
      "End final coordinates\n"
     ]
    }
   ],
   "source": [
    "# Extract final coordinates to compare with the input file\n",
    "#\n",
    "# In this case the input file was already ok, so we don't need to change it.\n",
    "\n",
    "id0 = relax.out.find('Begin final coordinates')\n",
    "id1 = relax.out.find('End final coordinates') # 21 characters\n",
    "print(relax.out[id0:id1+21])"
   ]
  },
  {
   "cell_type": "markdown",
   "metadata": {},
   "source": [
    "##  2 - Self-consistent calculation\n",
    "\n",
    "In this case we use the same input file from the relaxation because the lattice parameters were already fine. Therefore it is sufficient to change the calculation parameter from *vc-relax* to *scf*.\n",
    "\n",
    "To keep it all stored in different objects, here we initialize a new NAQUEI object."
   ]
  },
  {
   "cell_type": "code",
   "execution_count": 8,
   "metadata": {},
   "outputs": [],
   "source": [
    "# replace 'vc-relax' with 'scf'\n",
    "scf_in = relax_in.replace('vc-relax', 'scf', 1)\n",
    "# print(scf_in) # to see the input"
   ]
  },
  {
   "cell_type": "code",
   "execution_count": 9,
   "metadata": {},
   "outputs": [
    {
     "name": "stdout",
     "output_type": "stream",
     "text": [
      "It took  10.082718066871166  seconds\n"
     ]
    }
   ],
   "source": [
    "# initializes the object and runs the code\n",
    "scf = queiju(scf_in)\n",
    "print(\"It took \", scf.run(\"pw.x\"), \" seconds\")"
   ]
  },
  {
   "cell_type": "code",
   "execution_count": 3,
   "metadata": {},
   "outputs": [],
   "source": [
    "# to print the full output, run\n",
    "print(scf.out)\n",
    "# if you want to save the output to a file, run\n",
    "scf.saveoutput('scf.out')"
   ]
  },
  {
   "cell_type": "code",
   "execution_count": 4,
   "metadata": {},
   "outputs": [],
   "source": [
    "# to print the list of new or modified files\n",
    "print(scf.files)"
   ]
  },
  {
   "cell_type": "markdown",
   "metadata": {},
   "source": [
    "## Bands\n",
    "\n",
    "To prepare the bands input, we use the scf input above and\n",
    "\n",
    "- replace the calculation from scf to bands\n",
    "- remove the K_POINTS section to replace it with a k-path\n",
    "- attach the k-path and bands parameters to the input\n",
    "- run pw.x and then bands.x"
   ]
  },
  {
   "cell_type": "code",
   "execution_count": 12,
   "metadata": {},
   "outputs": [],
   "source": [
    "bands_in = scf_in.replace('scf', 'bands', 1) # replace scf with bands\n",
    "id0 = bands_in.find('K_POINTS') # find where K_POINTS start\n",
    "bands_in = bands_in[:id0] # remove from K_POINTS to the end\n",
    "bands_in += \"\"\"K_POINTS crystal_b\n",
    "4\n",
    "+0.0000000000 0.000000000 0.000000000 30 ! G\n",
    "-0.3333333333 0.666666667 0.000000000 30 ! K\n",
    "+0.0000000000 0.500000000 0.000000000 30 ! M\n",
    "+0.0000000000 0.000000000 0.000000000 30 ! G\n",
    "&bands\n",
    "outdir = './outdir'\n",
    "prefix = 'graphene'\n",
    "filband = 'graphene.bands.dat'\n",
    "/\n",
    "\"\"\"\n",
    "#print(bands_in)"
   ]
  },
  {
   "cell_type": "code",
   "execution_count": 13,
   "metadata": {},
   "outputs": [
    {
     "name": "stdout",
     "output_type": "stream",
     "text": [
      "It took  20.829707358032465  seconds\n",
      "It took  15.834395329002291  seconds\n"
     ]
    }
   ],
   "source": [
    "# initializes the object and runs the code\n",
    "bands = queiju(bands_in)\n",
    "plot = queiju(bands_in)\n",
    "# run both objects\n",
    "print(\"It took \", bands.run(\"pw.x\"), \" seconds\")\n",
    "print(\"It took \", plot.run(\"bands.x\"), \" seconds\")"
   ]
  },
  {
   "cell_type": "code",
   "execution_count": 14,
   "metadata": {},
   "outputs": [
    {
     "name": "stdout",
     "output_type": "stream",
     "text": [
      "./graphene.bands.dat.rap\n",
      "./graphene.bands.dat\n",
      "./outdir/graphene.wfc1\n",
      "./graphene.bands.dat.gnu\n",
      "\n"
     ]
    }
   ],
   "source": [
    "#print(bands.files)\n",
    "print(plot.files)"
   ]
  },
  {
   "cell_type": "markdown",
   "metadata": {},
   "source": [
    "## Plot bands"
   ]
  },
  {
   "cell_type": "code",
   "execution_count": 16,
   "metadata": {},
   "outputs": [
    {
     "data": {
      "text/plain": [
       "(728, 2)"
      ]
     },
     "execution_count": 16,
     "metadata": {},
     "output_type": "execute_result"
    }
   ],
   "source": [
    "# TO DO: extract filename automatically\n",
    "data = np.loadtxt('graphene.bands.dat.gnu')\n",
    "data.shape"
   ]
  },
  {
   "cell_type": "code",
   "execution_count": 17,
   "metadata": {},
   "outputs": [
    {
     "name": "stdout",
     "output_type": "stream",
     "text": [
      "the Fermi energy is    -4.2181 ev\n"
     ]
    }
   ],
   "source": [
    "# TO DO: extract the Fermi energy automatically from the scf output\n",
    "id0 = scf.out.find('the Fermi energy is')\n",
    "print(scf.out[id0:(id0+33)])\n",
    "fermi = -4.2181"
   ]
  },
  {
   "cell_type": "code",
   "execution_count": 18,
   "metadata": {},
   "outputs": [],
   "source": [
    "# TO DO: extract k-points automatically\n",
    "kpath = [data[ 0,0], data[30,0], data[60,0], data[90,0]]\n",
    "klabel = [R'$\\Gamma$', R'$K$', R'$M$', R'$\\Gamma$']"
   ]
  },
  {
   "cell_type": "code",
   "execution_count": 19,
   "metadata": {},
   "outputs": [
    {
     "data": {
      "image/png": "[encoded data removed]",
      "text/plain": [
       "<Figure size 432x360 with 1 Axes>"
      ]
     },
     "metadata": {
      "needs_background": "light"
     },
     "output_type": "display_data"
    }
   ],
   "source": [
    "plt.figure(figsize=(6,5))\n",
    "plt.rcParams.update({'font.size': 18})\n",
    "plt.clf()\n",
    "\n",
    "plt.scatter(data[:,0], data[:,1]-fermi)\n",
    "plt.xticks(kpath, klabel)\n",
    "plt.ylim(-5,5)\n",
    "plt.ylabel(R\"Energy [meV]\")\n",
    "plt.grid()\n",
    "plt.show()"
   ]
  },
  {
   "cell_type": "code",
   "execution_count": null,
   "metadata": {},
   "outputs": [],
   "source": []
  }
 ],
 "metadata": {
  "kernelspec": {
   "display_name": "Python 3",
   "language": "python",
   "name": "python3"
  },
  "language_info": {
   "codemirror_mode": {
    "name": "ipython",
    "version": 3
   },
   "file_extension": ".py",
   "mimetype": "text/x-python",
   "name": "python",
   "nbconvert_exporter": "python",
   "pygments_lexer": "ipython3",
   "version": "3.8.5-final"
  }
 },
 "nbformat": 4,
 "nbformat_minor": 2
}